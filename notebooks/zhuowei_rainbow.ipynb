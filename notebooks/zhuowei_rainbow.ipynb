{
 "cells": [
  {
   "cell_type": "code",
   "execution_count": null,
   "metadata": {
    "collapsed": false
   },
   "outputs": [],
   "source": [
    "#!/usr/bin/env python\n",
    "\n",
    "#\n",
    "# mcpipy.com retrieved from URL below, written by zhuowei\n",
    "# http://www.minecraftforum.net/topic/1638036-my-first-script-for-minecraft-pi-api-a-rainbow/\n",
    "\n",
    "import mcpi.minecraft as minecraft\n",
    "import mcpi.block as block\n",
    "from math import *\n",
    "\n",
    "colors = [14, 1, 4, 5, 3, 11, 10]\n",
    "\n",
    "mc = minecraft.Minecraft.create()\n",
    "height = 64\n",
    "\n",
    "mc.player.setPos( 0, height, height )\n",
    "\n",
    "mc.setBlocks(-(height*2),0,0,(height*2),height + len(colors),0,0)\n",
    "for x in range(0, 128):\n",
    "        for colourindex in range(0, len(colors)):\n",
    "                y = sin((x / (height*2.0)) * pi) * height + colourindex\n",
    "                mc.setBlock(x - (height*2), int(y), 0, block.WOOL.id, colors[len(colors) - 1 - colourindex])"
   ]
  }
 ],
 "metadata": {},
 "nbformat": 4,
 "nbformat_minor": 0
}