{
 "cells": [
  {
   "cell_type": "code",
   "execution_count": null,
   "metadata": {
    "collapsed": false
   },
   "outputs": [],
   "source": [
    "#! /usr/bin/python\n",
    "import sys\n",
    "sys.path.append( \"~/Desktop/CoderDojo\")\n",
    "import mcpi.minecraft as minecraft\n",
    "import mcpi.block as block\n",
    "\n",
    "# Connect to the Minecraft server\n",
    "world  =  minecraft.Minecraft.create()\n",
    "\n",
    "# Get the player's current position and store the coordinates\n",
    "[x,y,z] =  world.player.getPos()\n",
    "\n",
    "# Set some variables to customize your pyramid\n",
    "height    =  25\n",
    "material  =  block.TNT\n",
    "\n",
    "# This variable will track the current level being created inside the loop\n",
    "level  =  1\n",
    "\n",
    "# Execute the loop, building from the top down\n",
    "while level <= height:\n",
    "\tprint level\n",
    "\tworld.setBlocks( x - level, height - level, z - level,\n",
    "\t                 x + level, height - level, z + level, material )\n",
    "\tlevel  =  level + 0.5;\n",
    "\n",
    "# Put the player on top of the pyramid!\n",
    "world.player.setPos( x, height, z )"
   ]
  }
 ],
 "metadata": {},
 "nbformat": 4,
 "nbformat_minor": 0
}